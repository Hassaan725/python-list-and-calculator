{
  "nbformat": 4,
  "nbformat_minor": 0,
  "metadata": {
    "colab": {
      "provenance": []
    },
    "kernelspec": {
      "name": "python3",
      "display_name": "Python 3"
    },
    "language_info": {
      "name": "python"
    }
  },
  "cells": [
    {
      "cell_type": "code",
      "source": [
        "list1 = []\n",
        "for i in range(1,10):\n",
        "   element = int(input(\"enter number of elements in list:\"))\n",
        "   list1.append(element)\n",
        "def myMax(list1):\n",
        "\n",
        "  max=list1[0]\n",
        "  for x in list1:\n",
        "    if x>max:\n",
        "      max=x\n",
        "  return max\n",
        "print(\"largest element is:\", myMax(list1))\n"
      ],
      "metadata": {
        "colab": {
          "base_uri": "https://localhost:8080/"
        },
        "id": "KNbAQd_cvSh5",
        "outputId": "b6f603ea-527b-4b25-92ea-72960884b7f9"
      },
      "execution_count": null,
      "outputs": [
        {
          "output_type": "stream",
          "name": "stdout",
          "text": [
            "enter number of elements in list:9\n",
            "enter number of elements in list:8\n",
            "enter number of elements in list:7\n",
            "enter number of elements in list:6\n",
            "enter number of elements in list:5\n",
            "enter number of elements in list:4\n",
            "enter number of elements in list:3\n",
            "enter number of elements in list:3\n",
            "enter number of elements in list:3\n",
            "largest element is: 9\n"
          ]
        }
      ]
    },
    {
      "cell_type": "code",
      "source": [
        "class basic_calc():\n",
        "  def __init__(self,a,b):\n",
        "    self.a=a\n",
        "    self.b=b\n",
        "  def add(self):\n",
        "    return self.a + self.b\n",
        "  def sub(self):\n",
        "    return self.a - self.b\n",
        "  def mul(self):\n",
        "    return self.a * self.b\n",
        "  def div(self):\n",
        "    if self.b == 0:\n",
        "      print(\"MATH Error!\")\n",
        "    return self.a / self.b\n",
        "\n",
        "cal = basic_calc(5,3)\n",
        "print('Addition: ', cal.add())\n",
        "print('Subtraction: ', cal.sub())\n",
        "print('Multiplication: ', cal.mul())\n",
        "print('Division: ', cal.div())"
      ],
      "metadata": {
        "colab": {
          "base_uri": "https://localhost:8080/"
        },
        "id": "h30dbcuYw1-w",
        "outputId": "75de5994-cd6d-4819-f382-6f5cc38605e9"
      },
      "execution_count": null,
      "outputs": [
        {
          "output_type": "stream",
          "name": "stdout",
          "text": [
            "Addition:  8\n",
            "Subtraction:  2\n",
            "Multiplication:  15\n",
            "Division:  1.6666666666666667\n"
          ]
        }
      ]
    },
    {
      "cell_type": "code",
      "source": [],
      "metadata": {
        "id": "1nbFeWRv0LyI"
      },
      "execution_count": null,
      "outputs": []
    }
  ]
}